{
 "cells": [
  {
   "cell_type": "code",
   "execution_count": null,
   "metadata": {},
   "outputs": [],
   "source": [
    "#Other places for weather data\n",
    "#http://weather.uga.edu/index.php?variable=CC&site=COVING\n",
    "#DarkSkyAPIKey = '5f654f7e73bfd0ce5242716420496af5'\n",
    "#https://darksky.net/dev/account\n",
    "#documentation - https://darksky.net/dev/docs#time-machine-request\n",
    "#alright - http://kufs.ku.edu/resources/weather-station/"
   ]
  },
  {
   "cell_type": "code",
   "execution_count": 2,
   "metadata": {},
   "outputs": [],
   "source": [
    "import requests\n",
    "from bs4 import BeautifulSoup\n",
    "import pandas as pd"
   ]
  },
  {
   "cell_type": "code",
   "execution_count": 3,
   "metadata": {},
   "outputs": [],
   "source": [
    "url = 'http://agebb.missouri.edu/weather/history/report.asp?station_prefix=bwk&start_month=1&end_month=2&start_day=1&end_day=15&start_year=2020&end_year=2020&period_type=1&convert=1&field_elements=70&field_elements=3&field_elements=51&field_elements=73'\n",
    "headers = {'User-Agent':'Mozilla/5.0'}\n",
    "response = requests.get(url, headers = headers)\n",
    "# Mozilla/5.0 (Windows NT 10.0; Win64; x64) AppleWebKit/537.36 (KHTML, like Gecko) Chrome/80.0.3987.132 Safari/537.36"
   ]
  },
  {
   "cell_type": "code",
   "execution_count": 4,
   "metadata": {},
   "outputs": [],
   "source": [
    "soup = BeautifulSoup(response.content, 'html.parser')"
   ]
  },
  {
   "cell_type": "code",
   "execution_count": 5,
   "metadata": {},
   "outputs": [],
   "source": [
    "table = soup.find('pre')"
   ]
  },
  {
   "cell_type": "code",
   "execution_count": 6,
   "metadata": {},
   "outputs": [
    {
     "data": {
      "text/plain": [
       "bs4.element.Tag"
      ]
     },
     "execution_count": 6,
     "metadata": {},
     "output_type": "execute_result"
    }
   ],
   "source": [
    "type(table)"
   ]
  },
  {
   "cell_type": "code",
   "execution_count": 22,
   "metadata": {},
   "outputs": [
    {
     "data": {
      "text/plain": [
       "'\\r\\n   MONTH       DAY      YEAR     TOTAL   MAX AIR   MIN AIR     TOTAL  \\r\\n                                PRECIP      TEMP      TEMP     SOLAR  \\r\\n                                                                RAD.  \\r\\n                                INCHES         F         F     MJ/M²  \\r\\n       1         1      2020      0.00      54.5      27.2      9.66  \\r\\n       1         2      2020      0.00      50.0      34.1      6.10  \\r\\n       1         3      2020      0.00      46.7      32.7      7.30  \\r\\n       1         4      2020      0.00      40.7      29.2      9.02  \\r\\n       1         5      2020      0.00      51.5      26.7     10.06  \\r\\n       1         6      2020      0.00      43.2      22.2      5.98  \\r\\n       1         7      2020      0.00      46.2      27.8      8.33  \\r\\n       1         8      2020      0.00      45.1      24.7     10.09  \\r\\n       1         9      2020      0.00      61.5      39.6      3.12  \\r\\n       1        10      2020      0.61      47.3      27.7      1.20  \\r\\n       1        11      2020      0.00      27.8      17.9      1.84  \\r\\n       1        12      2020      0.00      29.1      14.2      3.66  \\r\\n       1        13      2020      0.03      37.1      20.2      3.42  \\r\\n       1        14      2020      0.00      46.0      32.7      8.48  \\r\\n       1        15      2020      0.00      48.3      21.9      3.38  \\r\\n       1        16      2020      0.00      22.0      11.7      7.82  \\r\\n       1        17      2020      0.00      31.9      20.6      0.71  \\r\\n       1        18      2020      0.06      35.5      18.0      8.70  \\r\\n       1        19      2020      0.00      18.1       6.9     10.99  \\r\\n       1        20      2020      0.00      15.0       6.7      6.75  \\r\\n       1        21      2020      0.00      26.9       4.9      5.95  \\r\\n       1        22      2020      0.03      31.8      26.8      1.50  \\r\\n       1        23      2020      0.28      33.9      30.8      1.81  \\r\\n       1        24      2020      0.17      32.0      30.2      3.19  \\r\\n       1        25      2020      0.04      31.2      21.6      5.67  \\r\\n       1        26      2020      0.08      31.1      16.2      4.77  \\r\\n       1        27      2020      0.00      32.0      25.7      4.81  \\r\\n       1        28      2020      0.00      29.6      27.0      2.65  \\r\\n       1        29      2020      0.02      30.9      22.8      9.00  \\r\\n       1        30      2020      0.00      32.5      25.1      5.77  \\r\\n       1        31      2020      0.00      38.6      28.6      4.49  \\r\\n       2         1      2020      0.01      41.7      31.7     10.43  \\r\\n       2         2      2020      0.00      56.1      32.1     12.70  \\r\\n       2         3      2020      0.00      63.3      33.1      8.64  \\r\\n       2         4      2020      0.00      33.9      28.6      1.69  \\r\\n       2         5      2020      0.00      29.4      24.4      2.69  \\r\\n       2         6      2020      0.01      34.4      12.6     14.07  \\r\\n       2         7      2020      0.01      33.0      23.2      2.91  \\r\\n       2         8      2020      0.00      35.7      21.1     13.72  \\r\\n       2         9      2020      0.03      47.2      28.3      1.77  \\r\\n       2        10      2020      0.00      38.5      25.1     11.26  \\r\\n       2        11      2020      0.00      40.8      28.3      8.68  \\r\\n       2        12      2020      0.29      32.5      22.3      1.78  \\r\\n       2        13      2020      0.00      22.4      -1.7     15.81  \\r\\n       2        14      2020      0.00      25.9      -7.0     16.32  \\r\\n       2        15      2020      0.00      39.6      22.0      6.72  \\r\\n\\r\\n\\r\\n                      '"
      ]
     },
     "execution_count": 22,
     "metadata": {},
     "output_type": "execute_result"
    }
   ],
   "source": [
    "table.contents[0] #this is probably the best"
   ]
  },
  {
   "cell_type": "code",
   "execution_count": null,
   "metadata": {},
   "outputs": [],
   "source": []
  },
  {
   "cell_type": "code",
   "execution_count": null,
   "metadata": {},
   "outputs": [],
   "source": []
  }
 ],
 "metadata": {
  "kernelspec": {
   "display_name": "Python 3",
   "language": "python",
   "name": "python3"
  },
  "language_info": {
   "codemirror_mode": {
    "name": "ipython",
    "version": 3
   },
   "file_extension": ".py",
   "mimetype": "text/x-python",
   "name": "python",
   "nbconvert_exporter": "python",
   "pygments_lexer": "ipython3",
   "version": "3.6.9"
  }
 },
 "nbformat": 4,
 "nbformat_minor": 4
}
