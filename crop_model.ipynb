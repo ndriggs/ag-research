{
 "cells": [
  {
   "cell_type": "code",
   "execution_count": null,
   "metadata": {},
   "outputs": [],
   "source": [
    "# create object with parameters\n",
    "# run simulation, have the results stored in a df, also have a summary report\n",
    "# visualize the results"
   ]
  },
  {
   "cell_type": "code",
   "execution_count": 2,
   "metadata": {},
   "outputs": [],
   "source": [
    "import datetime "
   ]
  },
  {
   "cell_type": "code",
   "execution_count": 4,
   "metadata": {},
   "outputs": [],
   "source": [
    "crop_params = {\n",
    "    'N stuff': 25,\n",
    "    'k': 0.7,\n",
    "    'LAI by stage':[[0, .5, 1, 1.5, 2],[.003, .009, .006, .004, .001]],\n",
    "    'Max Increase of Roots per day': .03,\n",
    "    'Partitioning %s Roots': 3, # step functions for roots, leaves, stem, and storage organs\n",
    "    'Temp Sum for Emergence': 800,\n",
    "    'Temp Sum for Anthesis': 300,\n",
    "    'Temp Sum for Maturity': 600,\n",
    "    'Planting Date': datetime.date(2020, 2, 1)\n",
    "}"
   ]
  },
  {
   "cell_type": "code",
   "execution_count": null,
   "metadata": {},
   "outputs": [],
   "source": [
    "soil_params = {\n",
    "    'Initial N': 200,\n",
    "    'Initial SM': .3,\n",
    "    'Water Retention': 3, # step function of SM and pF\n",
    "    'SM @ WP': .09,\n",
    "    'SM @ FC': .3,\n",
    "    'SM @ Sat': .5\n",
    "}"
   ]
  },
  {
   "cell_type": "code",
   "execution_count": null,
   "metadata": {},
   "outputs": [],
   "source": [
    "weather_data = pd.DataFrame()"
   ]
  },
  {
   "cell_type": "code",
   "execution_count": null,
   "metadata": {},
   "outputs": [],
   "source": [
    "management_params = {\n",
    "    'Amount N': 20,\n",
    "    'pF to Maintain': 2.2\n",
    "}"
   ]
  },
  {
   "cell_type": "code",
   "execution_count": null,
   "metadata": {},
   "outputs": [],
   "source": [
    "class model :\n",
    "    def __init__(crop, soil, weather, management) :\n",
    "        # read variables \n",
    "        model.k = crop_params['k']"
   ]
  },
  {
   "cell_type": "code",
   "execution_count": null,
   "metadata": {},
   "outputs": [],
   "source": [
    "# Nitrogen - apply a standard amount at first and then apply a set amount to an area when it's Nitrogen starved\n",
    "# Irrigation - maintain a certain pF"
   ]
  }
 ],
 "metadata": {
  "kernelspec": {
   "display_name": "Python 3",
   "language": "python",
   "name": "python3"
  },
  "language_info": {
   "codemirror_mode": {
    "name": "ipython",
    "version": 3
   },
   "file_extension": ".py",
   "mimetype": "text/x-python",
   "name": "python",
   "nbconvert_exporter": "python",
   "pygments_lexer": "ipython3",
   "version": "3.6.9"
  }
 },
 "nbformat": 4,
 "nbformat_minor": 4
}
