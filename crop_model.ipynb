{
 "cells": [
  {
   "cell_type": "code",
   "execution_count": null,
   "metadata": {},
   "outputs": [],
   "source": [
    "# create object with parameters\n",
    "# run simulation, have the results stored in a df, also have a summary report\n",
    "# visualize the results"
   ]
  },
  {
   "cell_type": "code",
   "execution_count": 12,
   "metadata": {},
   "outputs": [],
   "source": [
    "import requests\n",
    "from bs4 import BeautifulSoup\n",
    "import pandas as pd\n",
    "import datetime \n",
    "import numpy as np"
   ]
  },
  {
   "cell_type": "code",
   "execution_count": 2,
   "metadata": {},
   "outputs": [],
   "source": [
    "url = 'http://agebb.missouri.edu/weather/history/report.asp?station_prefix=bwk&start_month=1&end_month=2&start_day=1&end_day=15&start_year=2020&end_year=2020&period_type=1&convert=1&field_elements=70&field_elements=3&field_elements=51&field_elements=73'\n",
    "headers = {'User-Agent':'Mozilla/5.0'}\n",
    "response = requests.get(url, headers = headers)"
   ]
  },
  {
   "cell_type": "code",
   "execution_count": 3,
   "metadata": {},
   "outputs": [],
   "source": [
    "soup = BeautifulSoup(response.content, 'html.parser')\n",
    "table = soup.find('pre')\n",
    "data = table.contents[0].split()"
   ]
  },
  {
   "cell_type": "code",
   "execution_count": 4,
   "metadata": {},
   "outputs": [],
   "source": [
    "column_names = ['Date', 'Total Precip', 'Max Temp', 'Min Temp', 'Total Solar Rad']\n",
    "weather_data = pd.DataFrame(columns=column_names)"
   ]
  },
  {
   "cell_type": "code",
   "execution_count": 5,
   "metadata": {},
   "outputs": [],
   "source": [
    "i = 18\n",
    "while i < len(data) :\n",
    "    newrow = data[i:i+7]    \n",
    "    datestring = newrow[0] + '-' + newrow[1] + '-' + newrow[2]\n",
    "    dateobj = datetime.datetime.strptime(datestring, '%m-%d-%Y').date()\n",
    "    weather_data = weather_data.append({'Date': dateobj, \n",
    "                    'Total Precip': newrow[3], \n",
    "                    'Max Temp': newrow[4],\n",
    "                    'Min Temp': newrow[5],\n",
    "                    'Total Solar Rad': newrow[6]}, ignore_index=True)\n",
    "    i += 7\n",
    "weather_data['Date'] = pd.to_datetime(weather_data['Date'])\n",
    "weather_data.set_index('Date', inplace = True)"
   ]
  },
  {
   "cell_type": "code",
   "execution_count": 47,
   "metadata": {},
   "outputs": [],
   "source": [
    "crop_params = {\n",
    "    'N stuff': 25,\n",
    "    'k': 0.6,\n",
    "    'LAI by stage':[[0, .003], [.5, .009], [1, .006], [1.5, .004], [2, .001]],\n",
    "    'Max Increase of Roots per day': .012, # m d-1\n",
    "    'Partitioning %s Roots': [\n",
    "    [0.0, 0.60],\n",
    "    [0.33, 0.58],\n",
    "    [0.40, 0.55],\n",
    "    [0.80, 0.10],\n",
    "    [1.00, 0.00],\n",
    "    [2.00, 0.0 ]],\n",
    "\n",
    "    'Partitioning %s Leaves': [\n",
    "    [0.0, 0.40],\n",
    "    [0.33, 0.42],\n",
    "    [0.40, 0.405],\n",
    "    [0.80, 0.36],\n",
    "    [1.00, 0.10],\n",
    "    [1.01, 0.00],\n",
    "    [2.00, 0.00]],\n",
    "\n",
    "    'Partitioning %s Stem': [\n",
    "    [0.0, 0.00],\n",
    "    [0.33, 0.00],\n",
    "    [0.40, 0.045],\n",
    "    [0.80, 0.54],\n",
    "    [1.00, 0.90],\n",
    "    [1.01, 0.25],\n",
    "    [2.00, 0.00]],\n",
    "\n",
    "    'Partitioning %s Storage Organs': [\n",
    "    [0.0, 0.00],\n",
    "    [0.33, 0.00],\n",
    "    [0.40, 0.00],\n",
    "    [0.80, 0.00],\n",
    "    [1.00, 0.00],\n",
    "    [1.01, 0.75],\n",
    "    [2.00, 1.00]],\n",
    "    \n",
    "    'RUE': 2.8, # g / MJ ?\n",
    "    'Temp Sum for Emergence': 800,\n",
    "    'Temp Sum for Anthesis': 300,\n",
    "    'Temp Sum for Maturity': 600,\n",
    "    'Planting Date': datetime.date(2020, 1, 4)\n",
    "}"
   ]
  },
  {
   "cell_type": "code",
   "execution_count": 45,
   "metadata": {},
   "outputs": [],
   "source": [
    "soil_params = {\n",
    "    'Initial N': 200,\n",
    "    'Initial SM': .3,\n",
    "    'Water Retention': [[.3, 2],[.4, 3]], # step function of SM and pF\n",
    "    'SM @ WP': .09,\n",
    "    'SM @ FC': .3,\n",
    "    'SM @ Sat': .5\n",
    "}"
   ]
  },
  {
   "cell_type": "code",
   "execution_count": null,
   "metadata": {},
   "outputs": [],
   "source": [
    "weather_data = pd.DataFrame()"
   ]
  },
  {
   "cell_type": "code",
   "execution_count": 15,
   "metadata": {},
   "outputs": [],
   "source": [
    "management_params = {\n",
    "    'Amount N': 20,\n",
    "    'pF to Maintain': 2.2\n",
    "}"
   ]
  },
  {
   "cell_type": "code",
   "execution_count": 57,
   "metadata": {},
   "outputs": [],
   "source": [
    "class Model :\n",
    "    def __init__(self, crop, soil, weather, management) :\n",
    "        # read variables \n",
    "        self.N = crop['N stuff']\n",
    "        self.k = crop['k']\n",
    "        self.LAIRates = pd.DataFrame(crop['LAI by stage'])\n",
    "        self.RGMAX = crop['Max Increase of Roots per day']\n",
    "        self.RT = pd.DataFrame(crop['Partitioning %s Roots'])\n",
    "        self.LV = pd.DataFrame(crop['Partitioning %s Leaves'])\n",
    "        self.ST = pd.DataFrame(crop['Partitioning %s Stem'])\n",
    "        self.SO = pd.DataFrame(crop['Partitioning %s Storage Organs'])\n",
    "        self.RUE = crop['RUE']\n",
    "        self.TSUMEM = crop['Temp Sum for Emergence']\n",
    "        self.TSUM1 = crop['Temp Sum for Anthesis']\n",
    "        self.TSUM2 = crop['Temp Sum for Maturity']\n",
    "        self.DOS = crop['Planting Date'] # date of sowing\n",
    "        self.today = crop['Planting Date']\n",
    "        self.LAI = .5\n",
    "        \n",
    "        self.IN = soil['Initial N']\n",
    "        self.ISM = soil['Initial SM']\n",
    "        self.WRC = pd.DataFrame(soil['Water Retention']) # Water Retention Curve\n",
    "        self.WPSM = soil['SM @ WP']\n",
    "        self.FCSM = soil['SM @ FC']\n",
    "        self.SSM = soil['SM @ Sat']\n",
    "        \n",
    "        self.weather = weather\n",
    "        \n",
    "        self.management = management\n",
    "        \n",
    "        \n",
    "    def update() :\n",
    "        self.today += timedelta(days=1)\n",
    "        #update partitioning proportions\n",
    "    \n",
    "    def radiation_intercepted() :\n",
    "        radiation = float(self.weather.loc[self.today]['Total Solar Rad']) \n",
    "        ri = radiation * (1 - np.exp(-1 * self.k * self.LAI))\n",
    "        return ri\n",
    "    \n",
    "    def run() :\n",
    "        \n",
    "        potential_biomass = radiation_intercepted() * self.RUE\n",
    "        # actual biomass limited by water and nitrogen availability\n",
    "        ##### \n",
    "        # then partition it\n",
    "        self.roots += biomass * self.root_partition\n",
    "        self.leaves += biomass * self.leaves_partition\n",
    "        # something here happens to the LAI ######\n",
    "        self.stem += biomass * self.stem_partition\n",
    "        self.storage += biomass * self.storage_partition\n",
    "        "
   ]
  },
  {
   "cell_type": "code",
   "execution_count": 58,
   "metadata": {},
   "outputs": [],
   "source": [
    "model = Model(crop_params, soil_params, weather_data, management_params)"
   ]
  },
  {
   "cell_type": "code",
   "execution_count": null,
   "metadata": {},
   "outputs": [],
   "source": [
    "# Nitrogen - apply a standard amount at first and then apply a set amount to an area when it's Nitrogen starved\n",
    "# Irrigation - maintain a certain pF"
   ]
  }
 ],
 "metadata": {
  "kernelspec": {
   "display_name": "Python 3",
   "language": "python",
   "name": "python3"
  },
  "language_info": {
   "codemirror_mode": {
    "name": "ipython",
    "version": 3
   },
   "file_extension": ".py",
   "mimetype": "text/x-python",
   "name": "python",
   "nbconvert_exporter": "python",
   "pygments_lexer": "ipython3",
   "version": "3.6.9"
  }
 },
 "nbformat": 4,
 "nbformat_minor": 4
}
